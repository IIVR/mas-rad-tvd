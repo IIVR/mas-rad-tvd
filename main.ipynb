{
 "cells": [
  {
   "cell_type": "markdown",
   "metadata": {},
   "source": [
    "### Liens python :\n",
    "\n",
    "- [docs.python](https://docs.python.org)\n",
    "- [python.doctor](https://python.doctor)"
   ]
  },
  {
   "cell_type": "markdown",
   "metadata": {},
   "source": [
    "### Projet :\n",
    "- [CVE dataset](https://nvd.nist.gov/vuln/data-feeds)\n",
    "\n",
    "- [CVE descriptif](https://www.redhat.com/fr/topics/security/what-is-cve)\n",
    "\n",
    "- [CPE descriptif](https://medium.com/prohacktive/comment-exploiter-la-base-cve-du-nist-dfb10837da5c)\n",
    "\n",
    "- [Standards pour la gestion des vulnérabilités](https://www.cert-ist.com/public/fr/SO_detail?code=standards_gestion_vulnerabilites)"
   ]
  },
  {
   "cell_type": "markdown",
   "metadata": {},
   "source": [
    "### à voir :\n",
    "\n",
    "- cartopy\n",
    "- ipywidget\n",
    "- [kaggle](https://www.kaggle.com/)"
   ]
  },
  {
   "cell_type": "markdown",
   "metadata": {},
   "source": [
    "### notes :\n",
    "\n",
    "***CWE*** est un système de catégorisation des types de vulnérabilité, tandis que ***CVE*** est une référence à une vulnérabilité spécifique. "
   ]
  },
  {
   "cell_type": "markdown",
   "metadata": {},
   "source": [
    "files.maxMemoryForLargeFilesMB\n"
   ]
  },
  {
   "cell_type": "markdown",
   "metadata": {},
   "source": [
    "<hr>"
   ]
  },
  {
   "cell_type": "markdown",
   "metadata": {},
   "source": [
    "<h2>Introduction</h2>"
   ]
  },
  {
   "cell_type": "markdown",
   "metadata": {},
   "source": [
    "**Common Vulnerabilities and Exposures** ou **CVE** est un dictionnaire des informations publiques relatives aux vulnérabilités de sécurité. Le dictionnaire est maintenu par l'organisme MITRE, soutenu par le département de la Sécurité intérieure des États-Unis."
   ]
  },
  {
   "cell_type": "markdown",
   "metadata": {},
   "source": [
    "**Common Vulnerability Scoring System** ou **CVSS** est un système d'évaluation standardisé de la criticité des vulnérabilités selon des critères objectifs et mesurables.\n"
   ]
  },
  {
   "cell_type": "markdown",
   "metadata": {},
   "source": [
    "CVSS se compose de trois groupes de mesures : Base, Temporel, et Environnemental. \n",
    "Les métriques de base produisent un score allant de 0 à 10, qui peut ensuite être modifié en notant les métriques temporelles et environnementales.\n",
    "<br>\n",
    "Un score CVSS est également représenté sous la forme d'une chaîne vectorielle, une représentation textuelle comprimée des valeurs utilisées pour obtenir le score. Ainsi, CVSS est bien adapté comme système de mesure standard pour les industries, les organisations et les gouvernements qui ont besoin de scores de gravité de vulnérabilité précis et cohérents.\n",
    "<br>\n",
    "\n",
    "La base de données nationale sur les vulnérabilités (**NVD**) fournit des scores CVSS pour presque toutes les vulnérabilités connues.\n",
    "<br>\n",
    "\n",
    "**La NVD prend en charge les normes CVSS v2.0 et v3.X.**\n",
    "\n",
    "![cvss](media/cvss.png)\n",
    "\n",
    "Le NVD fournit des \"scores de base\" CVSS qui représentent les caractéristiques innées de chaque vulnérabilité.\n",
    "Le NVD ne fournit pas actuellement de \"scores temporels\" (mesures qui évoluent dans le temps en raison d'événements extérieurs à la vulnérabilité) ou de \"scores environnementaux\" (scores personnalisés pour refléter l'impact de la vulnérabilité sur votre organisation). Cependant, le NVD fournit un calculateur CVSS pour CVSS v2 et v3 qui vous permet d'ajouter des données de score temporel et environnemental.\n",
    "<br>\n",
    "\n",
    "Pour certaines vulnérabilités, toutes les informations nécessaires à la création des scores CVSS peuvent ne pas être disponibles. Cela se produit généralement lorsqu'un fournisseur annonce une vulnérabilité mais refuse de fournir certains détails. Dans de telles situations, les analystes du NVD attribuent des scores CVSS en utilisant l'approche du pire cas. Ainsi, si un fournisseur ne fournit aucun détail sur une vulnérabilité, le NVD attribuera à cette vulnérabilité une note de 10.0 (la note la plus élevée).\n",
    "\n"
   ]
  },
  {
   "cell_type": "code",
   "execution_count": null,
   "metadata": {},
   "outputs": [],
   "source": [
    "import json\n",
    "from glob import glob\n",
    "import gzip\n",
    "import pandas as pd\n",
    "from pandas import json_normalize\n",
    "import requests\n",
    "from datetime import datetime\n",
    "import xml.etree.ElementTree as et\n"
   ]
  },
  {
   "cell_type": "code",
   "execution_count": null,
   "metadata": {},
   "outputs": [],
   "source": [
    "# Download all cve from nvd.nist.gov\n",
    "url = 'https://nvd.nist.gov/feeds/json/cve/1.1/nvdcve-1.1-{}.json.gz'\n",
    "\n",
    "for cve in range(2002, datetime.now().year+1):\n",
    "    data = requests.get(url.format(cve)).content\n",
    "    with open(f'cve_dataset/nvdcve-1.1-{cve}.json.gz','wb') as f:\n",
    "        f.write(data)"
   ]
  },
  {
   "cell_type": "code",
   "execution_count": 1,
   "metadata": {},
   "outputs": [],
   "source": [
    "# Use Common Weakness Enumeration for type categorisation\n",
    "cwe_dataset = dict()\n",
    "tree = et.parse('cve_dataset/cwec_v4.7.xml')\n",
    "root = tree.getroot()\n",
    "\n",
    "for weakness in root.iter('{http://cwe.mitre.org/cwe-6}Weakness'):\n",
    "    cwe_dataset[weakness.get('ID')] = weakness.get('Name')\n",
    "\n",
    "CWE_df = pd.DataFrame.from_dict(cwe_dataset, orient='index', columns=[\"CWE_NAME\"])"
   ]
  },
  {
   "cell_type": "code",
   "execution_count": null,
   "metadata": {},
   "outputs": [],
   "source": [
    "CWE_df"
   ]
  },
  {
   "cell_type": "code",
   "execution_count": 2,
   "metadata": {},
   "outputs": [],
   "source": [
    "# Extract gzip data and create dataframe\n",
    "cve_dataset = list()\n",
    "\n",
    "for data in glob('cve_dataset/*.gz'):\n",
    "    with open(data,'rb') as f:\n",
    "        json_data = json.loads(gzip.decompress(f.read()))\n",
    "\n",
    "        cve_items = json_normalize(json_data['CVE_Items'])\n",
    "        cve_items.drop([\n",
    "            'cve.data_type',\n",
    "            'cve.data_format',\n",
    "            'cve.data_version',\n",
    "            # 'cve.problemtype.problemtype_data',\n",
    "            'cve.references.reference_data',\n",
    "            'configurations.CVE_data_version',\n",
    "            'configurations.nodes',\n",
    "            'cve.description.description_data'],\n",
    "            axis=1,\n",
    "            inplace=True\n",
    "        )\n",
    "\n",
    "        descriptions = json_normalize(\n",
    "            json_data['CVE_Items'],\n",
    "            record_path=[['cve','description','description_data']],\n",
    "            meta=[['cve','CVE_data_meta','ID']]\n",
    "        )\n",
    "\n",
    "        descriptions.drop(['lang'],axis=1,inplace=True)\n",
    "        descriptions.rename(columns={\"value\":\"description\"}, inplace=True)\n",
    "\n",
    "        dataframe = cve_items.merge(descriptions,on='cve.CVE_data_meta.ID')\n",
    "\n",
    "        dataframe.rename(columns={\"cve.CVE_data_meta.ID\":\"ID\"}, inplace=True)\n",
    "        dataframe = dataframe.set_index(\"ID\")\n",
    "        \n",
    "        cve_dataset.append(dataframe)\n",
    "\n",
    "df = pd.concat(cve_dataset)\n",
    "df = df[sorted(df)]\n"
   ]
  },
  {
   "cell_type": "code",
   "execution_count": 3,
   "metadata": {},
   "outputs": [],
   "source": [
    "# df.sample(10)\n",
    "\n",
    "# for d in range(200,250):\n",
    "\n",
    "#     print(df['cve.problemtype.problemtype_data'][d][0]['description'][0]['value'])\n",
    "\n",
    "cwe_id =df['cve.problemtype.problemtype_data'].ravel()\n"
   ]
  },
  {
   "cell_type": "code",
   "execution_count": null,
   "metadata": {},
   "outputs": [],
   "source": [
    "\n",
    "\n",
    "df.info()"
   ]
  },
  {
   "cell_type": "code",
   "execution_count": null,
   "metadata": {},
   "outputs": [],
   "source": [
    "pd.options.display.max_columns = None\n",
    "\n",
    "# # cast date\n",
    "df['publishedDate'] = pd.to_datetime(df['publishedDate'])\n",
    "df['lastModifiedDate'] = pd.to_datetime(df['lastModifiedDate'])\n"
   ]
  },
  {
   "cell_type": "code",
   "execution_count": null,
   "metadata": {},
   "outputs": [],
   "source": [
    "# displays statistics for quantitative variables\n",
    "df.describe()"
   ]
  },
  {
   "cell_type": "code",
   "execution_count": null,
   "metadata": {},
   "outputs": [],
   "source": [
    "# find by CVE-id\n",
    "df.loc['CVE-2005-1479']"
   ]
  },
  {
   "cell_type": "code",
   "execution_count": null,
   "metadata": {},
   "outputs": [],
   "source": [
    "df.info()"
   ]
  },
  {
   "cell_type": "code",
   "execution_count": null,
   "metadata": {},
   "outputs": [],
   "source": [
    "df.isnull().sum()"
   ]
  },
  {
   "cell_type": "code",
   "execution_count": null,
   "metadata": {},
   "outputs": [],
   "source": [
    "df.duplicated().sum()\n",
    "\n",
    "# ** REJECT ** DO NOT USE THIS CANDIDATE NUMBER\n",
    "mask = df.duplicated()\n",
    "\n",
    "df[mask]"
   ]
  },
  {
   "cell_type": "code",
   "execution_count": null,
   "metadata": {},
   "outputs": [],
   "source": [
    "# test graph\n",
    "years = df['publishedDate'].dt.year\n",
    "\n",
    "years[years == 1989]\n",
    "# a = years.value_counts().sort_index()\n",
    "\n",
    "# years.value_counts().sort_index().plot(kind='bar',figsize=(15, 5),logy=True)\n"
   ]
  }
 ],
 "metadata": {
  "interpreter": {
   "hash": "737e8c7c731e7b8334958b6cd928d2d91097b6853471244abb0566e55d6b43ca"
  },
  "kernelspec": {
   "display_name": "Python 3.9.7 ('base')",
   "language": "python",
   "name": "python3"
  },
  "language_info": {
   "codemirror_mode": {
    "name": "ipython",
    "version": 3
   },
   "file_extension": ".py",
   "mimetype": "text/x-python",
   "name": "python",
   "nbconvert_exporter": "python",
   "pygments_lexer": "ipython3",
   "version": "3.9.7"
  },
  "orig_nbformat": 4
 },
 "nbformat": 4,
 "nbformat_minor": 2
}
