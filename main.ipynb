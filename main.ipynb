{
 "cells": [
  {
   "cell_type": "markdown",
   "metadata": {},
   "source": [
    "### Liens python :\n",
    "\n",
    "- [docs.python](https://docs.python.org)\n",
    "- [python.doctor](https://python.doctor)"
   ]
  },
  {
   "cell_type": "markdown",
   "metadata": {},
   "source": [
    "### Projet :\n",
    "- [CVE dataset](https://nvd.nist.gov/vuln/data-feeds)\n",
    "\n",
    "- [CVE descriptif](https://www.redhat.com/fr/topics/security/what-is-cve)\n",
    "\n",
    "- [CPE descriptif](https://medium.com/prohacktive/comment-exploiter-la-base-cve-du-nist-dfb10837da5c)\n",
    "\n",
    "- [Standards pour la gestion des vulnérabilités](https://www.cert-ist.com/public/fr/SO_detail?code=standards_gestion_vulnerabilites)"
   ]
  },
  {
   "cell_type": "markdown",
   "metadata": {},
   "source": [
    "### à voir :\n",
    "\n",
    "- cartopy\n",
    "- ipywidget\n",
    "- [kaggle](https://www.kaggle.com/)"
   ]
  },
  {
   "cell_type": "markdown",
   "metadata": {},
   "source": [
    "### notes :\n",
    "\n",
    "***CWE*** est un système de catégorisation des types de vulnérabilité, tandis que ***CVE*** est une référence à une vulnérabilité spécifique. "
   ]
  },
  {
   "cell_type": "markdown",
   "metadata": {},
   "source": [
    "files.maxMemoryForLargeFilesMB\n"
   ]
  },
  {
   "cell_type": "markdown",
   "metadata": {},
   "source": [
    "<hr>"
   ]
  },
  {
   "cell_type": "markdown",
   "metadata": {},
   "source": [
    "<h2>Introduction</h2>"
   ]
  },
  {
   "cell_type": "markdown",
   "metadata": {},
   "source": [
    "**Common Vulnerabilities and Exposures** ou **CVE** est un dictionnaire des informations publiques relatives aux vulnérabilités de sécurité. Le dictionnaire est maintenu par l'organisme MITRE, soutenu par le département de la Sécurité intérieure des États-Unis."
   ]
  },
  {
   "cell_type": "markdown",
   "metadata": {},
   "source": [
    "**Common Vulnerability Scoring System** ou **CVSS** est un système d'évaluation standardisé de la criticité des vulnérabilités selon des critères objectifs et mesurables.\n"
   ]
  },
  {
   "cell_type": "markdown",
   "metadata": {},
   "source": [
    "CVSS se compose de trois groupes de mesures : Base, Temporel, et Environnemental. \n",
    "Les métriques de base produisent un score allant de 0 à 10, qui peut ensuite être modifié en notant les métriques temporelles et environnementales.\n",
    "<br>\n",
    "Un score CVSS est également représenté sous la forme d'une chaîne vectorielle, une représentation textuelle comprimée des valeurs utilisées pour obtenir le score. Ainsi, CVSS est bien adapté comme système de mesure standard pour les industries, les organisations et les gouvernements qui ont besoin de scores de gravité de vulnérabilité précis et cohérents.\n",
    "<br>\n",
    "\n",
    "La base de données nationale sur les vulnérabilités (**NVD**) fournit des scores CVSS pour presque toutes les vulnérabilités connues.\n",
    "<br>\n",
    "\n",
    "**La NVD prend en charge les normes CVSS v2.0 et v3.X.**\n",
    "\n",
    "![cvss](media/cvss.png)\n",
    "\n",
    "Le NVD fournit des \"scores de base\" CVSS qui représentent les caractéristiques innées de chaque vulnérabilité.\n",
    "Le NVD ne fournit pas actuellement de \"scores temporels\" (mesures qui évoluent dans le temps en raison d'événements extérieurs à la vulnérabilité) ou de \"scores environnementaux\" (scores personnalisés pour refléter l'impact de la vulnérabilité sur votre organisation). Cependant, le NVD fournit un calculateur CVSS pour CVSS v2 et v3 qui vous permet d'ajouter des données de score temporel et environnemental.\n",
    "<br>\n",
    "\n",
    "Pour certaines vulnérabilités, toutes les informations nécessaires à la création des scores CVSS peuvent ne pas être disponibles. Cela se produit généralement lorsqu'un fournisseur annonce une vulnérabilité mais refuse de fournir certains détails. Dans de telles situations, les analystes du NVD attribuent des scores CVSS en utilisant l'approche du pire cas. Ainsi, si un fournisseur ne fournit aucun détail sur une vulnérabilité, le NVD attribuera à cette vulnérabilité une note de 10.0 (la note la plus élevée).\n",
    "\n"
   ]
  },
  {
   "cell_type": "code",
   "execution_count": null,
   "metadata": {},
   "outputs": [],
   "source": [
    "# For Download all cve dataset from nvd.nist.gov\n",
    "# import requests\n",
    "# from datetime import datetime\n",
    "\n",
    "# url = 'https://nvd.nist.gov/feeds/json/cve/1.1/nvdcve-1.1-{}.json.gz'\n",
    "\n",
    "# for cve in range(2002, datetime.now().year+1):\n",
    "#     data = requests.get(url.format(cve)).content\n",
    "#     with open(f'cve_dataset/nvdcve-1.1-{cve}.json.gz','wb') as f:\n",
    "#         f.write(data)"
   ]
  },
  {
   "cell_type": "code",
   "execution_count": null,
   "metadata": {},
   "outputs": [],
   "source": [
    "import json\n",
    "from glob import glob\n",
    "import gzip\n",
    "import pandas as pd\n",
    "from pandas import json_normalize\n",
    "import xml.etree.ElementTree as et\n",
    "\n",
    "pd.options.display.max_columns = None"
   ]
  },
  {
   "cell_type": "code",
   "execution_count": null,
   "metadata": {},
   "outputs": [],
   "source": [
    "# Extract gzip data and create CVE dataframe\n",
    "cve_dataset = []\n",
    "\n",
    "for data in glob('cve_dataset/*2020.json.gz'):\n",
    "    with open(data,'rb') as f:\n",
    "        json_data = json.loads(gzip.decompress(f.read()))\n",
    "\n",
    "        cve_items = json_normalize(json_data['CVE_Items'])\n",
    "        cve_items.drop(['cve.data_type','cve.data_format','cve.data_version','cve.references.reference_data','configurations.CVE_data_version','configurations.nodes','cve.description.description_data'],\n",
    "            axis=1,\n",
    "            inplace=True\n",
    "        )\n",
    "\n",
    "        # maybe todo with map & list comprehension\n",
    "        descriptions = json_normalize(\n",
    "            json_data['CVE_Items'],\n",
    "            record_path=[['cve','description','description_data']],\n",
    "            meta=[['cve','CVE_data_meta','ID']]\n",
    "        )\n",
    "        descriptions.drop(['lang'],axis=1,inplace=True)\n",
    "\n",
    "        dataframe = cve_items.merge(descriptions,on='cve.CVE_data_meta.ID')\n",
    "\n",
    "        dataframe.rename(\n",
    "            columns={\n",
    "                \"cve.CVE_data_meta.ID\":\"ID\",\n",
    "                \"cve.problemtype.problemtype_data\":\"cwe_ids\",\n",
    "                \"cve.CVE_data_meta.ASSIGNER\":\"assigner\",\n",
    "                \"value\":\"description\"\n",
    "            },\n",
    "            inplace=True\n",
    "        )\n",
    "\n",
    "        dataframe = dataframe.set_index(\"ID\")\n",
    "        cve_dataset.append(dataframe)\n",
    "\n",
    "CVE_df = pd.concat(cve_dataset)\n",
    "\n",
    "CVE_df.insert(2, \"cwe_names\", None)\n",
    "\n",
    "# Drop row where description = '** REJECT ** DO NOT USE THIS CANDIDATE NUMBER'\n",
    "CVE_df.drop(CVE_df[CVE_df['description'].str.startswith('** REJECT **')].index, inplace=True)\n",
    "\n",
    "CVE_df= CVE_df[sorted(CVE_df)]\n"
   ]
  },
  {
   "cell_type": "code",
   "execution_count": null,
   "metadata": {},
   "outputs": [],
   "source": [
    "# extract CWE ids\n",
    "CVE_df['cwe_ids'] = \\\n",
    "CVE_df['cwe_ids'].map(lambda x: [id['value'] for sublist in x for id in sublist['description']])\n"
   ]
  },
  {
   "cell_type": "code",
   "execution_count": null,
   "metadata": {},
   "outputs": [],
   "source": [
    "# Use Common Weakness Enumeration (CWE) for CVE type categorisation\n",
    "cwe_dataset = dict()\n",
    "tree = et.parse('cve_dataset/cwec_v4.7.xml')\n",
    "root = tree.getroot()\n",
    "\n",
    "for weakness in root.iter('{http://cwe.mitre.org/cwe-6}Weakness'):\n",
    "    cwe_dataset[weakness.get('ID')] = weakness.get('Name')\n",
    "\n",
    "CWE_df = pd.DataFrame.from_dict(cwe_dataset, orient='index', columns=[\"CWE_NAME\"])"
   ]
  },
  {
   "cell_type": "code",
   "execution_count": null,
   "metadata": {},
   "outputs": [],
   "source": [
    "# mapping cwe_id with cwe_name\n",
    "def categorise(row):    \n",
    "    cwe_names = []\n",
    "    for id in row['cwe_ids']:\n",
    "        try:\n",
    "            cwe_names.append(CWE_df.loc[id.split(\"-\",1)[1]]['CWE_NAME'])\n",
    "        except:\n",
    "            cwe_names.append(id)\n",
    "\n",
    "    return cwe_names\n",
    "\n",
    "\n",
    "CVE_df['cwe_names'] = CVE_df.apply(lambda row: categorise(row), axis=1)"
   ]
  },
  {
   "cell_type": "code",
   "execution_count": null,
   "metadata": {},
   "outputs": [],
   "source": [
    "# need to use .astype(str) , because column cwe_ids and cwe_names are lists\n",
    "# CVE_df.astype(str).duplicated(keep='last').sum()\n",
    "CVE_df.astype(str).drop_duplicates(inplace=True)\n",
    "\n",
    "## cast date\n",
    "CVE_df['publishedDate'] = pd.to_datetime(CVE_df['publishedDate'])\n",
    "CVE_df['lastModifiedDate'] = pd.to_datetime(CVE_df['lastModifiedDate'])"
   ]
  },
  {
   "cell_type": "code",
   "execution_count": 24,
   "metadata": {},
   "outputs": [
    {
     "data": {
      "text/html": [
       "<div>\n",
       "<style scoped>\n",
       "    .dataframe tbody tr th:only-of-type {\n",
       "        vertical-align: middle;\n",
       "    }\n",
       "\n",
       "    .dataframe tbody tr th {\n",
       "        vertical-align: top;\n",
       "    }\n",
       "\n",
       "    .dataframe thead th {\n",
       "        text-align: right;\n",
       "    }\n",
       "</style>\n",
       "<table border=\"1\" class=\"dataframe\">\n",
       "  <thead>\n",
       "    <tr style=\"text-align: right;\">\n",
       "      <th></th>\n",
       "      <th>impact.baseMetricV2.cvssV2.baseScore</th>\n",
       "      <th>impact.baseMetricV2.exploitabilityScore</th>\n",
       "      <th>impact.baseMetricV2.impactScore</th>\n",
       "      <th>impact.baseMetricV3.cvssV3.baseScore</th>\n",
       "      <th>impact.baseMetricV3.exploitabilityScore</th>\n",
       "      <th>impact.baseMetricV3.impactScore</th>\n",
       "    </tr>\n",
       "  </thead>\n",
       "  <tbody>\n",
       "    <tr>\n",
       "      <th>count</th>\n",
       "      <td>18086.000000</td>\n",
       "      <td>18086.000000</td>\n",
       "      <td>18086.000000</td>\n",
       "      <td>18086.000000</td>\n",
       "      <td>18086.000000</td>\n",
       "      <td>18086.000000</td>\n",
       "    </tr>\n",
       "    <tr>\n",
       "      <th>mean</th>\n",
       "      <td>5.505037</td>\n",
       "      <td>7.719225</td>\n",
       "      <td>5.149784</td>\n",
       "      <td>7.136260</td>\n",
       "      <td>2.656668</td>\n",
       "      <td>4.334872</td>\n",
       "    </tr>\n",
       "    <tr>\n",
       "      <th>std</th>\n",
       "      <td>1.897708</td>\n",
       "      <td>2.222133</td>\n",
       "      <td>2.460587</td>\n",
       "      <td>1.690644</td>\n",
       "      <td>0.962626</td>\n",
       "      <td>1.536149</td>\n",
       "    </tr>\n",
       "    <tr>\n",
       "      <th>min</th>\n",
       "      <td>1.200000</td>\n",
       "      <td>1.900000</td>\n",
       "      <td>2.900000</td>\n",
       "      <td>2.000000</td>\n",
       "      <td>0.200000</td>\n",
       "      <td>1.400000</td>\n",
       "    </tr>\n",
       "    <tr>\n",
       "      <th>25%</th>\n",
       "      <td>4.300000</td>\n",
       "      <td>6.800000</td>\n",
       "      <td>2.900000</td>\n",
       "      <td>5.500000</td>\n",
       "      <td>1.800000</td>\n",
       "      <td>3.600000</td>\n",
       "    </tr>\n",
       "    <tr>\n",
       "      <th>50%</th>\n",
       "      <td>5.000000</td>\n",
       "      <td>8.600000</td>\n",
       "      <td>4.900000</td>\n",
       "      <td>7.500000</td>\n",
       "      <td>2.800000</td>\n",
       "      <td>3.600000</td>\n",
       "    </tr>\n",
       "    <tr>\n",
       "      <th>75%</th>\n",
       "      <td>6.800000</td>\n",
       "      <td>10.000000</td>\n",
       "      <td>6.400000</td>\n",
       "      <td>8.600000</td>\n",
       "      <td>3.900000</td>\n",
       "      <td>5.900000</td>\n",
       "    </tr>\n",
       "    <tr>\n",
       "      <th>max</th>\n",
       "      <td>10.000000</td>\n",
       "      <td>10.000000</td>\n",
       "      <td>10.000000</td>\n",
       "      <td>10.000000</td>\n",
       "      <td>3.900000</td>\n",
       "      <td>6.000000</td>\n",
       "    </tr>\n",
       "  </tbody>\n",
       "</table>\n",
       "</div>"
      ],
      "text/plain": [
       "       impact.baseMetricV2.cvssV2.baseScore  \\\n",
       "count                          18086.000000   \n",
       "mean                               5.505037   \n",
       "std                                1.897708   \n",
       "min                                1.200000   \n",
       "25%                                4.300000   \n",
       "50%                                5.000000   \n",
       "75%                                6.800000   \n",
       "max                               10.000000   \n",
       "\n",
       "       impact.baseMetricV2.exploitabilityScore  \\\n",
       "count                             18086.000000   \n",
       "mean                                  7.719225   \n",
       "std                                   2.222133   \n",
       "min                                   1.900000   \n",
       "25%                                   6.800000   \n",
       "50%                                   8.600000   \n",
       "75%                                  10.000000   \n",
       "max                                  10.000000   \n",
       "\n",
       "       impact.baseMetricV2.impactScore  impact.baseMetricV3.cvssV3.baseScore  \\\n",
       "count                     18086.000000                          18086.000000   \n",
       "mean                          5.149784                              7.136260   \n",
       "std                           2.460587                              1.690644   \n",
       "min                           2.900000                              2.000000   \n",
       "25%                           2.900000                              5.500000   \n",
       "50%                           4.900000                              7.500000   \n",
       "75%                           6.400000                              8.600000   \n",
       "max                          10.000000                             10.000000   \n",
       "\n",
       "       impact.baseMetricV3.exploitabilityScore  \\\n",
       "count                             18086.000000   \n",
       "mean                                  2.656668   \n",
       "std                                   0.962626   \n",
       "min                                   0.200000   \n",
       "25%                                   1.800000   \n",
       "50%                                   2.800000   \n",
       "75%                                   3.900000   \n",
       "max                                   3.900000   \n",
       "\n",
       "       impact.baseMetricV3.impactScore  \n",
       "count                     18086.000000  \n",
       "mean                          4.334872  \n",
       "std                           1.536149  \n",
       "min                           1.400000  \n",
       "25%                           3.600000  \n",
       "50%                           3.600000  \n",
       "75%                           5.900000  \n",
       "max                           6.000000  "
      ]
     },
     "execution_count": 24,
     "metadata": {},
     "output_type": "execute_result"
    }
   ],
   "source": [
    "# displays statistics for quantitative variables\n",
    "CVE_df.describe()"
   ]
  },
  {
   "cell_type": "code",
   "execution_count": null,
   "metadata": {},
   "outputs": [],
   "source": [
    "# find by CVE-id\n",
    "# CVE_df.loc['CVE-2020-13283']"
   ]
  },
  {
   "cell_type": "code",
   "execution_count": null,
   "metadata": {},
   "outputs": [],
   "source": [
    "# CVE_df.isnull().sum()"
   ]
  },
  {
   "cell_type": "code",
   "execution_count": null,
   "metadata": {},
   "outputs": [],
   "source": [
    "# test graph\n",
    "years = CVE_df['publishedDate'].dt.year\n",
    "\n",
    "# years[years == 1989]\n",
    "# a = years.value_counts().sort_index()\n",
    "\n",
    "years.value_counts().sort_index().plot(kind='bar',figsize=(15, 5),logy=True)\n"
   ]
  },
  {
   "cell_type": "code",
   "execution_count": 25,
   "metadata": {},
   "outputs": [
    {
     "data": {
      "text/plain": [
       "NVD-CWE-noinfo    3387\n",
       "CWE-79            2202\n",
       "CWE-787           1402\n",
       "CWE-125            768\n",
       "CWE-20             657\n",
       "                  ... \n",
       "CWE-323              1\n",
       "CWE-435              1\n",
       "CWE-185              1\n",
       "CWE-489              1\n",
       "CWE-279              1\n",
       "Length: 204, dtype: int64"
      ]
     },
     "execution_count": 25,
     "metadata": {},
     "output_type": "execute_result"
    }
   ],
   "source": [
    "# Dealing with List Values in Pandas Dataframes\n",
    "# https://towardsdatascience.com/dealing-with-list-values-in-pandas-dataframes-a177e534f173\n",
    "\n",
    "# cve_published_2020 = CVE_df[CVE_df['publishedDate'].dt.year == 2020]\n",
    "\n",
    "def to_1D(series):\n",
    "    return pd.Series([x for _list in series for x in _list])\n",
    "\n",
    "\n",
    "to_1D(CVE_df['cwe_ids']).value_counts()\n"
   ]
  }
 ],
 "metadata": {
  "interpreter": {
   "hash": "737e8c7c731e7b8334958b6cd928d2d91097b6853471244abb0566e55d6b43ca"
  },
  "kernelspec": {
   "display_name": "Python 3.9.7 ('base')",
   "language": "python",
   "name": "python3"
  },
  "language_info": {
   "codemirror_mode": {
    "name": "ipython",
    "version": 3
   },
   "file_extension": ".py",
   "mimetype": "text/x-python",
   "name": "python",
   "nbconvert_exporter": "python",
   "pygments_lexer": "ipython3",
   "version": "3.9.7"
  },
  "orig_nbformat": 4
 },
 "nbformat": 4,
 "nbformat_minor": 2
}
