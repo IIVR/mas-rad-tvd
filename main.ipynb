{
 "cells": [
  {
   "cell_type": "code",
   "execution_count": null,
   "metadata": {},
   "outputs": [],
   "source": [
    "# For Download all cve dataset from nvd.nist.gov\n",
    "# import requests\n",
    "# from datetime import datetime\n",
    "\n",
    "# url = 'https://nvd.nist.gov/feeds/json/cve/1.1/nvdcve-1.1-{}.json.gz'\n",
    "\n",
    "# for cve in range(2002, datetime.now().year+1):\n",
    "#     data = requests.get(url.format(cve)).content\n",
    "#     with open(f'cve_dataset/nvdcve-1.1-{cve}.json.gz','wb') as f:\n",
    "#         f.write(data)"
   ]
  },
  {
   "cell_type": "code",
   "execution_count": null,
   "metadata": {},
   "outputs": [],
   "source": [
    "import json\n",
    "from glob import glob\n",
    "import gzip\n",
    "import pandas as pd\n",
    "from pandas import json_normalize\n",
    "import xml.etree.ElementTree as et\n",
    "import IPython as IPy\n",
    "import matplotlib.pyplot as plt\n",
    "import re\n",
    "import ipywidgets as ipw\n",
    "\n",
    "pd.options.display.max_columns = None"
   ]
  },
  {
   "cell_type": "code",
   "execution_count": null,
   "metadata": {},
   "outputs": [],
   "source": [
    "# Extract gzip data and create CVE dataframe\n",
    "cve_dataset = []\n",
    "\n",
    "for data in glob('cve_dataset/*20.json.gz'):\n",
    "    with open(data,'rb') as f:\n",
    "        json_data = json.loads(gzip.decompress(f.read()))\n",
    "\n",
    "        cve_items = json_normalize(json_data['CVE_Items'])\n",
    "        cve_items.drop(['cve.data_type','cve.data_format','cve.data_version','cve.references.reference_data','configurations.CVE_data_version','configurations.nodes','cve.description.description_data'],\n",
    "            axis=1,\n",
    "            inplace=True\n",
    "        )\n",
    "\n",
    "        # maybe todo with map & list comprehension\n",
    "        descriptions = json_normalize(\n",
    "            json_data['CVE_Items'],\n",
    "            record_path=[['cve','description','description_data']],\n",
    "            meta=[['cve','CVE_data_meta','ID']]\n",
    "        )\n",
    "        descriptions.drop(['lang'],axis=1,inplace=True)\n",
    "\n",
    "        dataframe = cve_items.merge(descriptions,on='cve.CVE_data_meta.ID')\n",
    "\n",
    "        dataframe.rename(\n",
    "            columns={\n",
    "                \"cve.CVE_data_meta.ID\":\"ID\",\n",
    "                \"cve.problemtype.problemtype_data\":\"cwe_ids\",\n",
    "                \"cve.CVE_data_meta.ASSIGNER\":\"assigner\",\n",
    "                \"value\":\"description\"\n",
    "            },\n",
    "            inplace=True\n",
    "        )\n",
    "\n",
    "        dataframe = dataframe.set_index(\"ID\")\n",
    "        cve_dataset.append(dataframe)\n",
    "\n",
    "CVE_df = pd.concat(cve_dataset)\n",
    "\n",
    "CVE_df.insert(2, \"cwe_names\", None)\n",
    "\n",
    "# Drop row where description = '** REJECT ** DO NOT USE THIS CANDIDATE NUMBER'\n",
    "CVE_df.drop(CVE_df[CVE_df['description'].str.startswith('** REJECT **')].index, inplace=True)\n",
    "\n",
    "CVE_df= CVE_df[sorted(CVE_df)]\n"
   ]
  },
  {
   "cell_type": "code",
   "execution_count": null,
   "metadata": {},
   "outputs": [],
   "source": [
    "# extract CWE ids\n",
    "CVE_df['cwe_ids'] = \\\n",
    "CVE_df['cwe_ids'].map(lambda x: [id['value'] for sublist in x for id in sublist['description']])"
   ]
  },
  {
   "cell_type": "code",
   "execution_count": null,
   "metadata": {},
   "outputs": [],
   "source": [
    "# Use Common Weakness Enumeration (CWE) for CVE type categorisation\n",
    "cwe_dataset = dict()\n",
    "tree = et.parse('cve_dataset/cwec_v4.7.xml')\n",
    "root = tree.getroot()\n",
    "\n",
    "for weakness in root.iter('{http://cwe.mitre.org/cwe-6}Weakness'):\n",
    "    cwe_dataset[weakness.get('ID')] = weakness.get('Name')\n",
    "\n",
    "for category in root.iter('{http://cwe.mitre.org/cwe-6}Category'):\n",
    "    cwe_dataset[category.get('ID')] = category.get('Name')\n",
    "\n",
    "CWE_df = pd.DataFrame.from_dict(cwe_dataset, orient='index', columns=[\"CWE_NAME\"])"
   ]
  },
  {
   "cell_type": "code",
   "execution_count": null,
   "metadata": {},
   "outputs": [],
   "source": [
    "# mapping cwe_id with cwe_name\n",
    "def categorise(row):\n",
    "    cwe_names = []\n",
    "    for id in row['cwe_ids']:\n",
    "        try:\n",
    "            cwe_names.append(CWE_df.loc[id.split(\"-\",1)[1]]['CWE_NAME'])\n",
    "        except:\n",
    "            cwe_names.append(id)\n",
    "\n",
    "    return cwe_names\n",
    "\n",
    "CVE_df['cwe_names'] = CVE_df.apply(lambda row: categorise(row), axis=1)"
   ]
  },
  {
   "cell_type": "code",
   "execution_count": null,
   "metadata": {},
   "outputs": [],
   "source": [
    "# need to use .astype(str) , because column cwe_ids and cwe_names are lists\n",
    "# CVE_df.astype(str).duplicated(keep='last').sum()\n",
    "CVE_df.astype(str).drop_duplicates(inplace=True)\n",
    "\n",
    "## cast date\n",
    "CVE_df['publishedDate'] = pd.to_datetime(CVE_df['publishedDate'])\n",
    "CVE_df['lastModifiedDate'] = pd.to_datetime(CVE_df['lastModifiedDate'])"
   ]
  },
  {
   "cell_type": "code",
   "execution_count": null,
   "metadata": {},
   "outputs": [],
   "source": [
    "# displays statistics for quantitative variables\n",
    "CVE_df.describe()"
   ]
  },
  {
   "cell_type": "code",
   "execution_count": null,
   "metadata": {},
   "outputs": [],
   "source": []
  },
  {
   "cell_type": "code",
   "execution_count": null,
   "metadata": {},
   "outputs": [],
   "source": [
    "# display all published cve by year \n",
    "\n",
    "years = CVE_df['publishedDate'].dt.year\n",
    "\n",
    "years.value_counts().sort_index().plot(kind='bar',figsize=(15, 5),logy=True)"
   ]
  },
  {
   "cell_type": "code",
   "execution_count": null,
   "metadata": {},
   "outputs": [],
   "source": [
    "\n",
    "def to_1D(series):\n",
    "    return pd.Series([x for _list in series for x in _list])\n",
    "\n",
    "def format_cwe_name(name):\n",
    "        return re.sub(r'(\\w+\\s+\\w+\\s)', r'\\1\\n',name)\n",
    "\n",
    "years_slider = ipw.IntSlider(value=2020, min=2002, max=2022, step=1, description='Years :')\n",
    "\n",
    "def years_changed(year):\n",
    "    \n",
    "    cve_in_year =  CVE_df[CVE_df['publishedDate'].dt.year == year]\n",
    "\n",
    "    cwe_ids = to_1D(cve_in_year['cwe_ids']).value_counts()\n",
    "\n",
    "    # need to drop this before\n",
    "    cwe_ids.drop(cwe_ids[cwe_ids.index.str.startswith('NVD-CWE-noinfo')].index, inplace=True)\n",
    "    cwe_ids.drop(cwe_ids[cwe_ids.index.str.startswith('NVD-CWE-Other')].index, inplace=True)\n",
    "\n",
    "    fig, ax = plt.subplots(figsize = (18,8))\n",
    "\n",
    "    p1 = ax.bar(cwe_ids[0:6].index, cwe_ids[0:6].values)\n",
    "\n",
    "    ax.set_ylabel(\"Number\", size = 12)\n",
    "    ax.set_title(f\"CWE in {year}\", size = 14)\n",
    "\n",
    "    ids = [x.split(\"-\",1)[1] for x in cwe_ids[0:6].index ]\n",
    "\n",
    "    cwe_names = CWE_df.loc[ids]['CWE_NAME']\n",
    "\n",
    "    cwe_names = [ format_cwe_name(name) for name in cwe_names]\n",
    "\n",
    "    ax.bar_label(p1,labels=cwe_names, size=10, padding=-90)\n",
    "\n",
    "\n",
    "ipw.interact(years_changed, year = years_slider)"
   ]
  }
 ],
 "metadata": {
  "kernelspec": {
   "display_name": "Python 3.9.7 ('base')",
   "language": "python",
   "name": "python3"
  },
  "language_info": {
   "codemirror_mode": {
    "name": "ipython",
    "version": 3
   },
   "file_extension": ".py",
   "mimetype": "text/x-python",
   "name": "python",
   "nbconvert_exporter": "python",
   "pygments_lexer": "ipython3",
   "version": "3.9.7"
  },
  "orig_nbformat": 4,
  "vscode": {
   "interpreter": {
    "hash": "737e8c7c731e7b8334958b6cd928d2d91097b6853471244abb0566e55d6b43ca"
   }
  }
 },
 "nbformat": 4,
 "nbformat_minor": 2
}
