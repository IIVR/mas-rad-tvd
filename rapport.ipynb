{
 "cells": [
  {
   "cell_type": "markdown",
   "metadata": {},
   "source": [
    "<div align=\"center\" style=\"background-color:#336633;color:white;padding:10px;text-align:center;border-bottom:10px solid white;\">\n",
    "  <h1>MAS-RAD 2022</h1>\n",
    "  <h2>Traitement et visualisation des données avec Python</h2>\n",
    "  <h1 style=\"font-weight: 700;\">PROJET : CVE DATASET</h1>\n",
    "  <p style=\"text-align:center\">Raboud Jean-Yves - Juin 2022</p>\n",
    "</div>"
   ]
  },
  {
   "cell_type": "markdown",
   "metadata": {},
   "source": [
    "<div style=\"background-color:white;color:black;padding:20px;border-bottom:6px solid #336633;\">\n",
    "    <h3 style=\"text-transform: uppercase;font-weight: 800;color:#336633\">Table des matières</h3>  \n",
    "    <ul>\n",
    "        <li><strong><a style=\"color: green\" href=\"#intro\">Introduction</a></strong></li>\n",
    "        <li><strong><a style=\"color: green\" href=\"#objectif_m\">Objectif du module</a></strong></li>\n",
    "        <li><strong><a style=\"color: green\" href=\"#contexte\">Contexte</a></strong></li>\n",
    "        <li><strong><a style=\"color: green\" href=\"#objectif_p\">Objectif du projet</a></strong></li>\n",
    "    </ul>\n",
    "</div>"
   ]
  },
  {
   "cell_type": "markdown",
   "metadata": {},
   "source": [
    "<div style=\"background-color:white;color:black;padding:20px;border-bottom:6px solid #336633;\">\n",
    "    <h3 id=\"intro\" style=\"text-transform: uppercase;font-weight: 800;color:#336633\">Introduction</h3>\n",
    "    <p>Projet MAS-RAD du module <strong style=\"color:#5a5a5a\">Traitement et visualisation des données avec Python</strong> .</p>\n",
    "</div>"
   ]
  },
  {
   "cell_type": "markdown",
   "metadata": {},
   "source": [
    "<div style=\"background-color:white;color:black;padding:20px;border-bottom:6px solid #336633;\">\n",
    "    <h3 id=\"objectif_m\" style=\"text-transform: uppercase;font-weight: 800;color:#336633\">Objectif du module</h3>\n",
    "    <p>\n",
    "        <ul>\n",
    "            <li>Concevoir et réaliser un pipeline complet pour le traitement de données en Python<br>\n",
    "                - Acquisition, validation, reformatage & visualisation des données\n",
    "            </li><br>\n",
    "            <li>Utilisation des bibliothèques pour le traitement de données en Python<br>- Numpy, Pandas</li><br>\n",
    "            <li>Visualisation des données avec matplotlib et plotly</li><br>\n",
    "            <li>Création de notebooks Jupyter interactifs avec ipywidgets</li>\n",
    "        </ul>\n",
    "    </p>\n",
    "</div>"
   ]
  },
  {
   "cell_type": "markdown",
   "metadata": {},
   "source": [
    "<div style=\"background-color:white;color:black;padding:20px;border-bottom:6px solid #336633;\">\n",
    "    <h3 id=\"contexte\" style=\"text-transform: uppercase;font-weight: 800;color:#336633\">Contexte</h3>\n",
    "    <p>Le projet <strong style=\"color:#5a5a5a\">CVE DATASET</strong>, est un outils permettant l'analyse des vulnérabilités de cybersécurité.<br>\n",
    "    Les données analysée proviennent de la <strong><a style=\"color: green\" href=\"http://nvd.nist.gov\">National Vulnerability Database</a></strong> créee par le gouvernement américain et maintenue par l'organisme <strong><a style=\"color: green\" href=\"https://fr.wikipedia.org/wiki/MITRE?tableofcontents=0\">MITRE</a></strong>.</p>\n",
    "    <p><strong style=\"color:#5a5a5a; text-decoration-line: underline;\">CVE (Common Vulnerability Enumeration)</strong> est un standard pour le nommage des vulnérabilités.<br><br>\n",
    "    Son principe est d'associer un numéro unique (de la forme \"CVE-2001-xxxx\") à chaque nouvelle vulnérabilité.<br>\n",
    "    Chaque CVE peut être catégorisée à l'aide du standard CWE\n",
    "    et sa criticité évaluée grace à un système d'évaluation nommé CVSS.\n",
    "    </p>\n",
    "    <p><strong style=\"color:#5a5a5a; text-decoration-line: underline;\">CVSS (Common Vulnerability Scoring System)</strong><br><br>Permet d'associer une note (comprise de 0 à 10) pour la dangerosité d'une vulnérabilité.<br>Cette évaluation est constituée de 3 mesures appelées métriques : la métrique de base, la métrique temporelle et la métrique environnementale.</p>\n",
    "    <p><strong style=\"color:#5a5a5a; text-decoration-line: underline;\">CWE (Common Weakness Enumeration)</strong><br><br>\n",
    "    CWE a pour objectif de donner un numéro (de la forme \"CWE-xxx\") à tous les types de faille que l'on peut trouver dans un logiciel.\n",
    "    </p>\n",
    "    <p style=\"font-style: italic;font-size: 14px;\">(CWE est un système de catégorisation des types de vulnérabilité, tandis que CVE est une référence à une vulnérabilité spécifique.)</p>\n",
    "    <hr style=\"color:#5a5a5a;opacity:0.4\">\n",
    "    <p>\n",
    "    Les CVE de notre source de données intègrent les numéros de CWE auquel elles appartiennent, mais pas les noms des catégories,<br> de ce fait nous devons aussi récupérer <strong><a style=\"color: green\" href=\"https://cwe.mitre.org/data/downloads.html\">la liste des CWE</a></strong> auprès de l'organisme MITRE afin de pouvoir faire la relation entre les numéros et les noms.\n",
    "    </p>\n",
    "\n",
    "\n",
    "</div>\n"
   ]
  },
  {
   "cell_type": "markdown",
   "metadata": {},
   "source": [
    "<div style=\"background-color:white;color:black;padding:20px;border-bottom:6px solid #336633;\">\n",
    "    <h3 id=\"objectif_p\" style=\"text-transform: uppercase;font-weight: 800;color:#336633\">Objectif du projet</h3>\n",
    "    <p>\n",
    "        <ul>\n",
    "            <li>Mise en forme des données récupérées<br>- mapping des numéros de CWE avec les noms des catégories</li><br>\n",
    "            <li>Afficher le nombre de CVE publiée par année sur un graphe</li><br>\n",
    "            <li>Afficher les x catégories (CWE) de vulnérabilités les plus présente par année</li><br>\n",
    "            <li>Afficher un wordcloud des descriptions de CVE</li>\n",
    "        </ul>\n",
    "    </p>\n",
    "</div>"
   ]
  }
 ],
 "metadata": {
  "language_info": {
   "name": "python"
  },
  "orig_nbformat": 4
 },
 "nbformat": 4,
 "nbformat_minor": 2
}
