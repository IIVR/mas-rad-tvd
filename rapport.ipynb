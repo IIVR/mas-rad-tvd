{
 "cells": [
  {
   "cell_type": "markdown",
   "metadata": {},
   "source": [
    "<div align=\"center\" style=\"background-color:#336633;color:white;padding:10px;text-align:center;border-bottom:10px solid white;\">\n",
    "  <h1>MAS-RAD 2022</h1>\n",
    "  <h2>Traitement et visualisation des données avec Python</h2>\n",
    "  <h1 style=\"font-weight: 700;\">PROJET : CVE DATASET</h1>\n",
    "  <p style=\"text-align:center\">Raboud Jean-Yves - Juin 2022</p>\n",
    "</div>"
   ]
  },
  {
   "cell_type": "markdown",
   "metadata": {},
   "source": [
    "<div style=\"background-color:white;color:black;padding:20px;border-bottom:6px solid #336633;\">\n",
    "    <h3 style=\"text-transform: uppercase;font-weight: 800;color:#336633\">Table des matières</h3>  \n",
    "    <ul>\n",
    "        <li><a href=\"#intro\">Introduction</a></li>\n",
    "        <li><a href=\"#objectif_m\">Objectif du module</a></li>\n",
    "        <li><a href=\"#contexte\">Contexte</a></li>\n",
    "        <li><a href=\"#objectif_p\">Objectif du projet</a></li>\n",
    "    </ul>\n",
    "</div>"
   ]
  },
  {
   "cell_type": "markdown",
   "metadata": {},
   "source": [
    "<div style=\"background-color:white;color:black;padding:20px;border-bottom:6px solid #336633;\">\n",
    "    <h3 id=\"intro\" style=\"text-transform: uppercase;font-weight: 800;color:#336633\">Introduction</h3>\n",
    "    <p>Projet MAS-RAD du module <strong style=\"color:#5a5a5a\">Traitement et visualisation des données avec Python</strong> .</p>\n",
    "</div>"
   ]
  },
  {
   "cell_type": "markdown",
   "metadata": {},
   "source": [
    "<div style=\"background-color:white;color:black;padding:20px;border-bottom:6px solid #336633;\">\n",
    "    <h3 id=\"objectif_m\" style=\"text-transform: uppercase;font-weight: 800;color:#336633\">Objectif du module</h3>\n",
    "    <p>\n",
    "        <ul>\n",
    "            <li>Concevoir et réaliser un pipeline complet pour le traitement de données en Python<br>\n",
    "                - Acquisition, validation, reformatage & visualisation des données\n",
    "            </li><br>\n",
    "            <li>Utilisation des bibliothèques pour le traitement de données en Python<br>- Numpy, Pandas</li><br>\n",
    "            <li>Visualisation des données avec matplotlib et plotly</li><br>\n",
    "            <li>Création de notebooks Jupyter interactifs avec ipywidgets</li>\n",
    "        </ul>\n",
    "    </p>\n",
    "</div>"
   ]
  },
  {
   "cell_type": "markdown",
   "metadata": {},
   "source": [
    "<div style=\"background-color:white;color:black;padding:20px;border-bottom:6px solid #336633;\">\n",
    "    <h3 id=\"objectif_p\" style=\"text-transform: uppercase;font-weight: 800;color:#336633\">Objectif du projet</h3>\n",
    "    <p>\n",
    "        <ul>\n",
    "            <li>Mise en forme des données récupérées<br>- mapping des numéros de CWE avec les noms des catégories</li><br>\n",
    "            <li>Afficher le nombre de CVE publiée par année sur un graphe</li><br>\n",
    "            <li>Afficher les x catégories (CWE) de vulnérabilités les plus présente par année</li><br>\n",
    "            <li>Afficher un wordcloud des descriptions de CVE</li>\n",
    "        </ul>\n",
    "    </p>\n",
    "</div>"
   ]
  }
 ],
 "metadata": {
  "language_info": {
   "name": "python"
  },
  "orig_nbformat": 4
 },
 "nbformat": 4,
 "nbformat_minor": 2
}
