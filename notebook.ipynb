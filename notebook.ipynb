{
 "cells": [
  {
   "cell_type": "markdown",
   "metadata": {},
   "source": [
    "<div align=\"center\" style=\"background-color:#336633;color:white;padding:10px;text-align:center;border-bottom:10px solid white;\">\n",
    "  <h1>MAS-RAD 2022</h1>\n",
    "  <h2>Traitement et visualisation des données avec Python</h2>\n",
    "  <h1 style=\"font-weight: 700;\">PROJET : CVE DATASET</h1>\n",
    "  <p style=\"text-align:center\">Raboud Jean-Yves - Juin 2022</p>\n",
    "</div>"
   ]
  },
  {
   "cell_type": "markdown",
   "metadata": {},
   "source": [
    "<div style=\"background-color:white;color:black;padding:20px;border-bottom:6px solid #336633;\">\n",
    "    <h3 style=\"text-transform: uppercase;font-weight: 800;color:#336633\">Table des matières</h3>  \n",
    "    <ul>\n",
    "        <li><strong><a style=\"color: #336633\" href=\"#intro\">Introduction</a></strong></li>\n",
    "        <li><strong><a style=\"color: #336633\" href=\"#objectif_m\">Objectif du module</a></strong></li>\n",
    "        <li><strong><a style=\"color: #336633\" href=\"#contexte\">Contexte</a></strong></li>\n",
    "        <li><strong><a style=\"color: #336633\" href=\"#objectif_p\">Objectif du projet</a></strong></li>\n",
    "        <li><strong><a style=\"color: #336633\" href=\"#recuperation\">Récupération des données</a></strong></li>\n",
    "        <li><strong><a style=\"color: #336633\" href=\"#creation\">Création du dataframe</a></strong></li>\n",
    "        <li><strong><a style=\"color: #336633\" href=\"#struct\">Mise en forme des données</a></strong></li>\n",
    "        <li><strong><a style=\"color: #336633\" href=\"#stats\">Statistique des variables quantitative</a></strong></li>\n",
    "        <li><strong><a style=\"color: #336633\" href=\"#nbcve\">Nombre de CVE publiée par année</a></strong></li>\n",
    "    </ul>\n",
    "</div>\n",
    "\n"
   ]
  },
  {
   "cell_type": "markdown",
   "metadata": {},
   "source": [
    "<div style=\"background-color:white;color:black;padding:20px;border-bottom:6px solid #336633;\">\n",
    "    <h3 id=\"intro\" style=\"text-transform: uppercase;font-weight: 800;color:#336633\">Introduction</h3>\n",
    "    <p>Projet MAS-RAD du module <strong style=\"color:#5a5a5a\">Traitement et visualisation des données avec Python</strong> .</p>\n",
    "</div>"
   ]
  },
  {
   "cell_type": "markdown",
   "metadata": {},
   "source": [
    "<div style=\"background-color:white;color:black;padding:20px;border-bottom:6px solid #336633;\">\n",
    "    <h3 id=\"objectif_m\" style=\"text-transform: uppercase;font-weight: 800;color:#336633\">Objectif du module</h3>\n",
    "    <p>\n",
    "        <ul>\n",
    "            <li>Concevoir et réaliser un pipeline complet pour le traitement de données en Python<br>\n",
    "                - Acquisition, validation, reformatage & visualisation des données\n",
    "            </li><br>\n",
    "            <li>Utilisation des bibliothèques pour le traitement de données en Python<br>- Numpy, Pandas</li><br>\n",
    "            <li>Visualisation des données avec matplotlib et plotly</li><br>\n",
    "            <li>Création de notebooks Jupyter interactifs avec ipywidgets</li>\n",
    "        </ul>\n",
    "    </p>\n",
    "</div>"
   ]
  },
  {
   "cell_type": "markdown",
   "metadata": {},
   "source": [
    "<div style=\"background-color:white;color:black;padding:20px;border-bottom:6px solid #336633;\">\n",
    "    <h3 id=\"contexte\" style=\"text-transform: uppercase;font-weight: 800;color:#336633\">Contexte</h3>\n",
    "    <p>Le projet <strong style=\"color:#5a5a5a\">CVE DATASET</strong>, est un outils permettant l'analyse des vulnérabilités de cybersécurité.<br>\n",
    "    Les données analysée proviennent de la <strong><a style=\"color: #336633\" href=\"http://nvd.nist.gov\">National Vulnerability Database</a></strong> créee par le gouvernement américain et maintenue par l'organisme <strong><a style=\"color: #336633\" href=\"https://fr.wikipedia.org/wiki/MITRE?tableofcontents=0\">MITRE</a></strong>.</p>\n",
    "    <p><strong style=\"color:#5a5a5a; text-decoration-line: underline;\">CVE (Common Vulnerability Enumeration)</strong> est un standard pour le nommage des vulnérabilités.<br><br>\n",
    "    Son principe est d'associer un numéro unique (de la forme \"CVE-2001-xxxx\") à chaque nouvelle vulnérabilité.<br>\n",
    "    Chaque CVE peut être catégorisée à l'aide du standard CWE\n",
    "    et sa criticité évaluée grace à un système d'évaluation nommé CVSS.\n",
    "    </p>\n",
    "    <p><strong style=\"color:#5a5a5a; text-decoration-line: underline;\">CVSS (Common Vulnerability Scoring System)</strong><br><br>Permet d'associer une note (comprise de 0 à 10) pour la dangerosité d'une vulnérabilité.<br>Cette évaluation est constituée de 3 mesures appelées métriques : la métrique de base, la métrique temporelle et la métrique environnementale.</p>\n",
    "    <p><strong style=\"color:#5a5a5a; text-decoration-line: underline;\">CWE (Common Weakness Enumeration)</strong><br><br>\n",
    "    CWE a pour objectif de donner un numéro (de la forme \"CWE-xxx\") à tous les types de faille que l'on peut trouver dans un logiciel.\n",
    "    </p>\n",
    "    <p style=\"font-style: italic;font-size: 14px;\">(CWE est un système de catégorisation des types de vulnérabilité, tandis que CVE est une référence à une vulnérabilité spécifique.)</p>\n",
    "    <hr style=\"color:#5a5a5a;opacity:0.4\">\n",
    "    <p>\n",
    "    Les CVE de notre source de données intègrent les numéros de CWE auquel elles appartiennent, mais pas les noms des catégories,<br> de ce fait nous devons aussi récupérer <strong><a style=\"color: #336633\" href=\"https://cwe.mitre.org/data/downloads.html\">la liste des CWE</a></strong> auprès de l'organisme MITRE afin de pouvoir faire la relation entre les numéros et les noms.\n",
    "    </p>\n",
    "\n",
    "\n",
    "</div>\n"
   ]
  },
  {
   "cell_type": "markdown",
   "metadata": {},
   "source": [
    "<div style=\"background-color:white;color:black;padding:20px;border-bottom:6px solid #336633;\">\n",
    "    <h3 id=\"objectif_p\" style=\"text-transform: uppercase;font-weight: 800;color:#336633\">Objectif du projet</h3>\n",
    "    <p>\n",
    "        <ul>\n",
    "            <li>Mise en forme des données récupérées<br>- mapping des numéros de CWE avec les noms des catégories</li><br>\n",
    "            <li>Afficher le nombre de CVE publiée par année sur un graphe</li><br>\n",
    "            <li>Afficher les x catégories (CWE) de vulnérabilités les plus présente par année</li><br>\n",
    "            <li>Afficher un wordcloud des descriptions de CVE</li>\n",
    "        </ul>\n",
    "    </p>\n",
    "</div>"
   ]
  },
  {
   "cell_type": "markdown",
   "metadata": {},
   "source": [
    "<div style=\"background-color:white;color:black;padding:20px;border-bottom:6px solid #336633;\">\n",
    "    <h3 id=\"recuperation\" style=\"text-transform: uppercase;font-weight: 800;color:#336633\">Récupération des données</h3>\n",
    "    <p>Exécuter la cellule ci-dessous uniquement si les données ne sont pas présente dans le répertoire <i>cve_dataset</i></p>\n",
    "</div>"
   ]
  },
  {
   "cell_type": "code",
   "execution_count": 1,
   "metadata": {},
   "outputs": [],
   "source": [
    "\n",
    "# For Download all cve dataset from nvd.nist.gov\n",
    "# import requests\n",
    "# from datetime import datetime\n",
    "\n",
    "# url = 'https://nvd.nist.gov/feeds/json/cve/1.1/nvdcve-1.1-{}.json.gz'\n",
    "\n",
    "# for cve in range(2002, datetime.now().year+1):\n",
    "#     data = requests.get(url.format(cve)).content\n",
    "#     with open(f'cve_dataset/nvdcve-1.1-{cve}.json.gz','wb') as f:\n",
    "#         f.write(data)"
   ]
  },
  {
   "cell_type": "markdown",
   "metadata": {},
   "source": [
    "<div style=\"background-color:white;color:black;padding:20px;border-bottom:6px solid #336633;\">\n",
    "    <h3 id=\"creation\" style=\"text-transform: uppercase;font-weight: 800;color:#336633\">Création du dataframe</h3>\n",
    "    <p></p>\n",
    "</div>"
   ]
  },
  {
   "cell_type": "code",
   "execution_count": 2,
   "metadata": {},
   "outputs": [],
   "source": [
    "import json\n",
    "from glob import glob\n",
    "import gzip\n",
    "import pandas as pd\n",
    "from pandas import json_normalize\n",
    "import xml.etree.ElementTree as et\n",
    "import IPython as IPy\n",
    "import matplotlib.pyplot as plt\n",
    "import re\n",
    "import ipywidgets as ipw\n",
    "\n",
    "pd.options.display.max_columns = None"
   ]
  },
  {
   "cell_type": "code",
   "execution_count": 3,
   "metadata": {},
   "outputs": [],
   "source": [
    "# Extract gzip data and create CVE dataframe\n",
    "cve_dataset = []\n",
    "for data in glob('cve_dataset/*.json.gz'):\n",
    "# 🖥️ for testing only extract only *2020.json.gz\n",
    "# for data in glob('cve_dataset/*2020.json.gz'):\n",
    "    with open(data,'rb') as f:\n",
    "        json_data = json.loads(gzip.decompress(f.read()))\n",
    "\n",
    "        cve_items = json_normalize(json_data['CVE_Items'])\n",
    "        cve_items.drop(['cve.data_type','cve.data_format','cve.data_version','cve.references.reference_data','configurations.CVE_data_version','configurations.nodes','cve.description.description_data'],\n",
    "            axis=1,\n",
    "            inplace=True\n",
    "        )\n",
    "\n",
    "        descriptions = json_normalize(\n",
    "            json_data['CVE_Items'],\n",
    "            record_path=[['cve','description','description_data']],\n",
    "            meta=[['cve','CVE_data_meta','ID']]\n",
    "        )\n",
    "        descriptions.drop(['lang'],axis=1,inplace=True)\n",
    "\n",
    "        dataframe = cve_items.merge(descriptions,on='cve.CVE_data_meta.ID')\n",
    "\n",
    "        dataframe.rename(\n",
    "            columns={\n",
    "                \"cve.CVE_data_meta.ID\":\"ID\",\n",
    "                \"cve.problemtype.problemtype_data\":\"cwe_ids\",\n",
    "                \"cve.CVE_data_meta.ASSIGNER\":\"assigner\",\n",
    "                \"value\":\"description\"\n",
    "            },\n",
    "            inplace=True\n",
    "        )\n",
    "\n",
    "        dataframe = dataframe.set_index(\"ID\")\n",
    "        cve_dataset.append(dataframe)\n",
    "\n",
    "CVE_df = pd.concat(cve_dataset)\n",
    "CVE_df.insert(2, \"cwe_names\", None)\n",
    "# Drop row where description = '** REJECT ** DO NOT USE THIS CANDIDATE NUMBER'\n",
    "CVE_df.drop(CVE_df[CVE_df['description'].str.startswith('** REJECT **')].index, inplace=True)\n",
    "CVE_df= CVE_df[sorted(CVE_df)]"
   ]
  },
  {
   "cell_type": "markdown",
   "metadata": {},
   "source": [
    "<div style=\"background-color:white;color:black;padding:20px;border-bottom:6px solid #336633;\">\n",
    "    <h3 id=\"struct\" style=\"text-transform: uppercase;font-weight: 800;color:#336633\">Mise en forme des données</h3>\n",
    "    <p>1. Extraction des CWE id se trouvant dans la structure json <i>\"cve.problemtype.problemtype_data\" pour la création de la colonne \"cwe_ids\" du dataframe.</i>\n",
    "    <p>2. Mapping des CWE id avec les noms correspondant du fichier cwec_v4.7.xml pour la création de la colonne \"CWE_NAME\" du dataframe.</p>\n",
    "    <p align=\"center\"><img src=\"medias/cwe_mapping.png\" width=\"60%\" style=\"padding-top:10px;\"></p>\n",
    "</div>"
   ]
  },
  {
   "cell_type": "code",
   "execution_count": 4,
   "metadata": {},
   "outputs": [],
   "source": [
    "# 1. Extract CWE ids\n",
    "CVE_df['cwe_ids'] = \\\n",
    "CVE_df['cwe_ids'].map(lambda x: [id['value'] for sublist in x for id in sublist['description']])"
   ]
  },
  {
   "cell_type": "code",
   "execution_count": 5,
   "metadata": {},
   "outputs": [],
   "source": [
    "# 2. Use Common Weakness Enumeration (CWE) for CVE type categorisation\n",
    "cwe_dataset = dict()\n",
    "tree = et.parse('cve_dataset/cwec_v4.7.xml')\n",
    "root = tree.getroot()\n",
    "\n",
    "for weakness in root.iter('{http://cwe.mitre.org/cwe-6}Weakness'):\n",
    "    cwe_dataset[weakness.get('ID')] = weakness.get('Name')\n",
    "\n",
    "for category in root.iter('{http://cwe.mitre.org/cwe-6}Category'):\n",
    "    cwe_dataset[category.get('ID')] = category.get('Name')\n",
    "\n",
    "CWE_df = pd.DataFrame.from_dict(cwe_dataset, orient='index', columns=[\"CWE_NAME\"])\n",
    "\n",
    "# mapping cwe_id with cwe_name\n",
    "def categorise(row):\n",
    "    cwe_names = []\n",
    "    for id in row['cwe_ids']:\n",
    "        try:\n",
    "            cwe_names.append(CWE_df.loc[id.split(\"-\",1)[1]]['CWE_NAME'])\n",
    "        except:\n",
    "            cwe_names.append(id)\n",
    "\n",
    "    return cwe_names\n",
    "\n",
    "CVE_df['cwe_names'] = CVE_df.apply(lambda row: categorise(row), axis=1)"
   ]
  },
  {
   "cell_type": "code",
   "execution_count": 6,
   "metadata": {},
   "outputs": [],
   "source": [
    "# need to use .astype(str) , because column cwe_ids and cwe_names are lists\n",
    "# CVE_df.astype(str).duplicated(keep='last').sum()\n",
    "CVE_df.astype(str).drop_duplicates(inplace=True)\n",
    "\n",
    "## cast date\n",
    "CVE_df['publishedDate'] = pd.to_datetime(CVE_df['publishedDate'])\n",
    "CVE_df['lastModifiedDate'] = pd.to_datetime(CVE_df['lastModifiedDate'])"
   ]
  },
  {
   "cell_type": "markdown",
   "metadata": {},
   "source": [
    "<div style=\"background-color:white;color:black;padding:20px;border-bottom:6px solid #336633;\">\n",
    "    <h3 id=\"stats\" style=\"text-transform: uppercase;font-weight: 800;color:#336633\">Statistique des variables quantitative</h3>\n",
    "    <p></p>\n",
    "</div>"
   ]
  },
  {
   "cell_type": "code",
   "execution_count": 8,
   "metadata": {},
   "outputs": [
    {
     "data": {
      "text/html": [
       "<div>\n",
       "<style scoped>\n",
       "    .dataframe tbody tr th:only-of-type {\n",
       "        vertical-align: middle;\n",
       "    }\n",
       "\n",
       "    .dataframe tbody tr th {\n",
       "        vertical-align: top;\n",
       "    }\n",
       "\n",
       "    .dataframe thead th {\n",
       "        text-align: right;\n",
       "    }\n",
       "</style>\n",
       "<table border=\"1\" class=\"dataframe\">\n",
       "  <thead>\n",
       "    <tr style=\"text-align: right;\">\n",
       "      <th></th>\n",
       "      <th>impact.baseMetricV2.cvssV2.baseScore</th>\n",
       "      <th>impact.baseMetricV2.exploitabilityScore</th>\n",
       "      <th>impact.baseMetricV2.impactScore</th>\n",
       "      <th>impact.baseMetricV3.cvssV3.baseScore</th>\n",
       "      <th>impact.baseMetricV3.exploitabilityScore</th>\n",
       "      <th>impact.baseMetricV3.impactScore</th>\n",
       "    </tr>\n",
       "  </thead>\n",
       "  <tbody>\n",
       "    <tr>\n",
       "      <th>count</th>\n",
       "      <td>18076.000000</td>\n",
       "      <td>18076.000000</td>\n",
       "      <td>18076.000000</td>\n",
       "      <td>18076.000000</td>\n",
       "      <td>18076.000000</td>\n",
       "      <td>18076.000000</td>\n",
       "    </tr>\n",
       "    <tr>\n",
       "      <th>mean</th>\n",
       "      <td>5.504608</td>\n",
       "      <td>7.718771</td>\n",
       "      <td>5.149474</td>\n",
       "      <td>7.135694</td>\n",
       "      <td>2.656611</td>\n",
       "      <td>4.334366</td>\n",
       "    </tr>\n",
       "    <tr>\n",
       "      <th>std</th>\n",
       "      <td>1.897725</td>\n",
       "      <td>2.222529</td>\n",
       "      <td>2.460727</td>\n",
       "      <td>1.690531</td>\n",
       "      <td>0.962631</td>\n",
       "      <td>1.536305</td>\n",
       "    </tr>\n",
       "    <tr>\n",
       "      <th>min</th>\n",
       "      <td>1.200000</td>\n",
       "      <td>1.900000</td>\n",
       "      <td>2.900000</td>\n",
       "      <td>2.000000</td>\n",
       "      <td>0.200000</td>\n",
       "      <td>1.400000</td>\n",
       "    </tr>\n",
       "    <tr>\n",
       "      <th>25%</th>\n",
       "      <td>4.300000</td>\n",
       "      <td>6.800000</td>\n",
       "      <td>2.900000</td>\n",
       "      <td>5.500000</td>\n",
       "      <td>1.800000</td>\n",
       "      <td>3.600000</td>\n",
       "    </tr>\n",
       "    <tr>\n",
       "      <th>50%</th>\n",
       "      <td>5.000000</td>\n",
       "      <td>8.600000</td>\n",
       "      <td>4.900000</td>\n",
       "      <td>7.500000</td>\n",
       "      <td>2.800000</td>\n",
       "      <td>3.600000</td>\n",
       "    </tr>\n",
       "    <tr>\n",
       "      <th>75%</th>\n",
       "      <td>6.800000</td>\n",
       "      <td>10.000000</td>\n",
       "      <td>6.400000</td>\n",
       "      <td>8.600000</td>\n",
       "      <td>3.900000</td>\n",
       "      <td>5.900000</td>\n",
       "    </tr>\n",
       "    <tr>\n",
       "      <th>max</th>\n",
       "      <td>10.000000</td>\n",
       "      <td>10.000000</td>\n",
       "      <td>10.000000</td>\n",
       "      <td>10.000000</td>\n",
       "      <td>3.900000</td>\n",
       "      <td>6.000000</td>\n",
       "    </tr>\n",
       "  </tbody>\n",
       "</table>\n",
       "</div>"
      ],
      "text/plain": [
       "       impact.baseMetricV2.cvssV2.baseScore  \\\n",
       "count                          18076.000000   \n",
       "mean                               5.504608   \n",
       "std                                1.897725   \n",
       "min                                1.200000   \n",
       "25%                                4.300000   \n",
       "50%                                5.000000   \n",
       "75%                                6.800000   \n",
       "max                               10.000000   \n",
       "\n",
       "       impact.baseMetricV2.exploitabilityScore  \\\n",
       "count                             18076.000000   \n",
       "mean                                  7.718771   \n",
       "std                                   2.222529   \n",
       "min                                   1.900000   \n",
       "25%                                   6.800000   \n",
       "50%                                   8.600000   \n",
       "75%                                  10.000000   \n",
       "max                                  10.000000   \n",
       "\n",
       "       impact.baseMetricV2.impactScore  impact.baseMetricV3.cvssV3.baseScore  \\\n",
       "count                     18076.000000                          18076.000000   \n",
       "mean                          5.149474                              7.135694   \n",
       "std                           2.460727                              1.690531   \n",
       "min                           2.900000                              2.000000   \n",
       "25%                           2.900000                              5.500000   \n",
       "50%                           4.900000                              7.500000   \n",
       "75%                           6.400000                              8.600000   \n",
       "max                          10.000000                             10.000000   \n",
       "\n",
       "       impact.baseMetricV3.exploitabilityScore  \\\n",
       "count                             18076.000000   \n",
       "mean                                  2.656611   \n",
       "std                                   0.962631   \n",
       "min                                   0.200000   \n",
       "25%                                   1.800000   \n",
       "50%                                   2.800000   \n",
       "75%                                   3.900000   \n",
       "max                                   3.900000   \n",
       "\n",
       "       impact.baseMetricV3.impactScore  \n",
       "count                     18076.000000  \n",
       "mean                          4.334366  \n",
       "std                           1.536305  \n",
       "min                           1.400000  \n",
       "25%                           3.600000  \n",
       "50%                           3.600000  \n",
       "75%                           5.900000  \n",
       "max                           6.000000  "
      ]
     },
     "execution_count": 8,
     "metadata": {},
     "output_type": "execute_result"
    }
   ],
   "source": [
    "# displays statistics for quantitative variables\n",
    "CVE_df.describe()"
   ]
  },
  {
   "cell_type": "markdown",
   "metadata": {},
   "source": [
    "<div style=\"background-color:white;color:black;padding:20px;border-bottom:6px solid #336633;\">\n",
    "    <h3 id=\"nbcve\" style=\"text-transform: uppercase;font-weight: 800;color:#336633\">Nombre de CVE publiée par année</h3>\n",
    "    <p></p>\n",
    "</div>"
   ]
  },
  {
   "cell_type": "code",
   "execution_count": 7,
   "metadata": {},
   "outputs": [
    {
     "data": {
      "text/plain": [
       "<AxesSubplot:>"
      ]
     },
     "execution_count": 7,
     "metadata": {},
     "output_type": "execute_result"
    },
    {
     "data": {
      "image/png": "[encoded data removed]",
      "text/plain": [
       "<Figure size 1080x360 with 1 Axes>"
      ]
     },
     "metadata": {
      "needs_background": "light"
     },
     "output_type": "display_data"
    }
   ],
   "source": [
    "# display all published cve by year\n",
    "years = CVE_df['publishedDate'].dt.year\n",
    "years.value_counts().sort_index().plot(kind='bar',figsize=(15, 5),logy=True)"
   ]
  },
  {
   "cell_type": "markdown",
   "metadata": {},
   "source": [
    "### Liens utile:\n",
    "- [CVE dataset](https://nvd.nist.gov/vuln/data-feeds)\n",
    "\n",
    "- [CWE dataset](https://cwe.mitre.org/data/downloads.html)\n",
    "\n",
    "- [Standards pour la gestion des vulnérabilités](https://www.cert-ist.com/public/fr/SO_detail?code=standards_gestion_vulnerabilites)\n",
    "\n",
    "- [CPE descriptif (pas utilisé dans le projet)](https://medium.com/prohacktive/comment-exploiter-la-base-cve-du-nist-dfb10837da5c)"
   ]
  }
 ],
 "metadata": {
  "kernelspec": {
   "display_name": "Python 3.9.7 ('base')",
   "language": "python",
   "name": "python3"
  },
  "language_info": {
   "codemirror_mode": {
    "name": "ipython",
    "version": 3
   },
   "file_extension": ".py",
   "mimetype": "text/x-python",
   "name": "python",
   "nbconvert_exporter": "python",
   "pygments_lexer": "ipython3",
   "version": "3.9.7"
  },
  "orig_nbformat": 4,
  "vscode": {
   "interpreter": {
    "hash": "737e8c7c731e7b8334958b6cd928d2d91097b6853471244abb0566e55d6b43ca"
   }
  }
 },
 "nbformat": 4,
 "nbformat_minor": 2
}
